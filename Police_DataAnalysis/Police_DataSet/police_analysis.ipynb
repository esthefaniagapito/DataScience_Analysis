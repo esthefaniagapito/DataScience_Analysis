{
 "cells": [
  {
   "attachments": {},
   "cell_type": "markdown",
   "metadata": {},
   "source": [
    "# Police Data Analysis\n",
    "\n",
    "1. Instruction ( For Data Cleaning ) - Remove the column that only contains missing values.\n",
    "2. Question ( Based on Filtering + Value Counts ) - For Speeding , were Men or Women stopped more often ? \n",
    "3. Question ( Groupby ) - Does gender affect who gets searched during a stop ?\n",
    "Question ( mapping + data-type casting )\n",
    "4. Question ( mapping + data-type casting ) - What is the mean stop_duration ?\n",
    "5. Question ( Groupby , Describe ) - Compare the age distributions for each violation."
   ]
  },
  {
   "cell_type": "code",
   "execution_count": null,
   "metadata": {},
   "outputs": [],
   "source": []
  }
 ],
 "metadata": {
  "kernelspec": {
   "display_name": "Python 3.10.6 64-bit",
   "language": "python",
   "name": "python3"
  },
  "language_info": {
   "name": "python",
   "version": "3.10.6"
  },
  "orig_nbformat": 4,
  "vscode": {
   "interpreter": {
    "hash": "beedbe2faf2f7048d727558d0bc3221e7eba2a0b921cac4d4771b2feb8f74b30"
   }
  }
 },
 "nbformat": 4,
 "nbformat_minor": 2
}
