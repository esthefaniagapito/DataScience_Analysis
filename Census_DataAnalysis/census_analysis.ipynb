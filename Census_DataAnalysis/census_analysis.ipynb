{
 "cells": [
  {
   "attachments": {},
   "cell_type": "markdown",
   "metadata": {},
   "source": [
    "# Census Data Analysis\n",
    "\n",
    "## Tasks\n",
    "1. How will you hide the indexes of the dataframe.\n",
    "2. How can we set the caption / heading on the dataframe.\n",
    "3. Show the records related with the districts - New Delhi , Lucknow , Jaipur.\n",
    "4.  Calculate state-wise :\n",
    "- Total number of population.\n",
    "- Total no. of the population with different religions.\n",
    "5. How many Male Workers were there in Maharashtra state ?\n",
    "6. How to set a column as index of the dataframe ?\n",
    "7. Add a Suffix to the column names.\n",
    "8. Add a Prefix to the column names."
   ]
  }
 ],
 "metadata": {
  "language_info": {
   "name": "python"
  },
  "orig_nbformat": 4
 },
 "nbformat": 4,
 "nbformat_minor": 2
}
