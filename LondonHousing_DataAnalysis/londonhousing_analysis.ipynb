{
 "cells": [
  {
   "attachments": {},
   "cell_type": "markdown",
   "metadata": {},
   "source": [
    "# London Housing Data Analysis\n",
    "\n",
    "## Tasks\n",
    "1. Convert the Datatype of 'Date' column to Date-Time format.\n",
    "2. Add a new column ''year'' in the dataframe, which contains years only.(B.2) Add a new column ''month'' as 2nd column in the dataframe, which contains month only.\n",
    "3. Remove the columns 'year' and 'month' from the dataframe.\n",
    "4. Show all the records where 'No. of Crimes' is 0. And, how many such records are there ?\n",
    "5. What is the maximum & minimum 'average_price' per year in england ?\n",
    "6. What is the Maximum & Minimum No. of Crimes recorded per area ?\n",
    "7. Show the total count of records of each area, where average price is less than 100000."
   ]
  },
  {
   "cell_type": "code",
   "execution_count": null,
   "metadata": {},
   "outputs": [],
   "source": []
  }
 ],
 "metadata": {
  "kernelspec": {
   "display_name": "Python 3",
   "language": "python",
   "name": "python3"
  },
  "language_info": {
   "name": "python",
   "version": "3.10.6 (tags/v3.10.6:9c7b4bd, Aug  1 2022, 21:53:49) [MSC v.1932 64 bit (AMD64)]"
  },
  "orig_nbformat": 4,
  "vscode": {
   "interpreter": {
    "hash": "beedbe2faf2f7048d727558d0bc3221e7eba2a0b921cac4d4771b2feb8f74b30"
   }
  }
 },
 "nbformat": 4,
 "nbformat_minor": 2
}
